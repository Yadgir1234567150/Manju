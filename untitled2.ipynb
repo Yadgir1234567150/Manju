{
  "nbformat": 4,
  "nbformat_minor": 0,
  "metadata": {
    "colab": {
      "provenance": [],
      "authorship_tag": "ABX9TyM88o1qF5NMQTOcHMyzkgZa",
      "include_colab_link": true
    },
    "kernelspec": {
      "name": "python3",
      "display_name": "Python 3"
    },
    "language_info": {
      "name": "python"
    }
  },
  "cells": [
    {
      "cell_type": "markdown",
      "metadata": {
        "id": "view-in-github",
        "colab_type": "text"
      },
      "source": [
        "<a href=\"https://colab.research.google.com/github/Yadgir1234567150/Manju/blob/main/untitled2.ipynb\" target=\"_parent\"><img src=\"https://colab.research.google.com/assets/colab-badge.svg\" alt=\"Open In Colab\"/></a>"
      ]
    },
    {
      "cell_type": "code",
      "execution_count": null,
      "metadata": {
        "colab": {
          "base_uri": "https://localhost:8080/"
        },
        "id": "e2as22F4-4Vw",
        "outputId": "5fd72abd-a3af-41ef-bfd0-f39ad622c42f"
      },
      "outputs": [
        {
          "output_type": "stream",
          "name": "stdout",
          "text": [
            "Enter your marks 45\n",
            " c grade\n"
          ]
        }
      ],
      "source": [
        "A=int(input(\"Enter your marks \"))\n",
        "if(A<35):\n",
        "  print(\" Fail\")\n",
        "elif(A<60):\n",
        "  print(\" c grade\")\n",
        "elif(A<80):\n",
        "  print (\" B grade\")\n",
        "elif(A<=100):\n",
        "    print(\"A grade\")\n",
        "else:\n",
        "    print(\" wrong input \")"
      ]
    },
    {
      "cell_type": "code",
      "source": [
        "i=0\n",
        "while i<10:\n",
        "  if(i%2==0):\n",
        "    print(i)\n",
        "  i+=1"
      ],
      "metadata": {
        "id": "MEcjkJWBLm_h",
        "outputId": "f83c85c8-88f0-4c85-8898-bcada82be5e9",
        "colab": {
          "base_uri": "https://localhost:8080/"
        }
      },
      "execution_count": 7,
      "outputs": [
        {
          "output_type": "stream",
          "name": "stdout",
          "text": [
            "0\n",
            "2\n",
            "4\n",
            "6\n",
            "8\n"
          ]
        }
      ]
    }
  ]
}